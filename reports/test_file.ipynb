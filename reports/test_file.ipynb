{
  "cells": [
    {
      "cell_type": "raw",
      "metadata": {},
      "source": [
        "---\n",
        "title: \"Test Quarto Document\"\n",
        "format: html\n",
        "---"
      ],
      "id": "a27a98e9"
    },
    {
      "cell_type": "markdown",
      "metadata": {},
      "source": [
        "# Hello, Quarto!\n",
        "\n",
        "This is a test document."
      ],
      "id": "c192006c"
    },
    {
      "cell_type": "markdown",
      "metadata": {},
      "source": [
        "#| echo: true\n",
        "import pandas as pd\n",
        "from IPython.display import Markdown, display\n",
        "from tabulate import tabulate\n",
        "\n",
        "# Create a simple DataFrame\n",
        "df = pd.DataFrame({\n",
        "    'Name': ['Alice', 'Bob', 'Charlie'],\n",
        "    'Age': [25, 30, 35]\n",
        "})\n",
        "\n",
        "# Display the DataFrame as a Markdown table\n",
        "markdown_table = tabulate(df, tablefmt='pipe', headers='keys', showindex=False)\n",
        "display(Markdown(markdown_table))"
      ],
      "id": "7babe068"
    }
  ],
  "metadata": {
    "kernelspec": {
      "name": "python3",
      "language": "python",
      "display_name": "Python 3 (ipykernel)"
    }
  },
  "nbformat": 4,
  "nbformat_minor": 5
}