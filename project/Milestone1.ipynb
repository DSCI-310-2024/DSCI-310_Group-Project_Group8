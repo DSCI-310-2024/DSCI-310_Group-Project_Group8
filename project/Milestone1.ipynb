{
 "cells": [
  {
   "cell_type": "markdown",
   "id": "ce862143",
   "metadata": {},
   "source": [
    "# Group 8: Project Milestone 1\n",
    "\n",
    "## Predicting Online Shopper Intention"
   ]
  },
  {
   "cell_type": "markdown",
   "id": "38f2f178",
   "metadata": {},
   "source": [
    "**Contributors**\n",
    "\n",
    "* Calvin Choi\n",
    "* Nour Abdelfattah\n",
    "* Sai Pusuluri\n",
    "* Sana Shams"
   ]
  },
  {
   "cell_type": "markdown",
   "id": "919c1299",
   "metadata": {},
   "source": [
    "# Introduction\n",
    "\n",
    "Given the surge of online shopping, online retailers may get a lot of site traffic but what ultimately matters is whether or not users finalize their purchase. Marketing and User Experience teams are tasked with optimizing a site’s interface and content in order to improve customer retention and the site’s revenue. Given this, understanding customer browsing behaviour and web page features is crucial for not only improving the user’s experience, but also maximizing the retailer’s revenue.\n",
    "\n",
    "This project aims to analyze various features of online shopper’s sessions on a site to predict whether the customer makes a purchase. We will use the dataset, [Online Shoppers Purchasing Intention](https://archive.ics.uci.edu/dataset/468/online+shoppers+purchasing+intention+dataset) dataset from the UCI Machine Learning Repository. \n",
    "\n",
    "**Question**\n",
    "\n",
    "Using all variables provided in the dataset, which group of explanatory variables form the best prediction for the user's purchase intent?\n"
   ]
  },
  {
   "cell_type": "markdown",
   "id": "e207cb20",
   "metadata": {},
   "source": [
    "### Imports"
   ]
  },
  {
   "cell_type": "code",
   "execution_count": 10,
   "id": "a59bb44d",
   "metadata": {},
   "outputs": [],
   "source": [
    "import numpy as np\n",
    "import pandas as pd\n",
    "import matplotlib as plt"
   ]
  },
  {
   "cell_type": "code",
   "execution_count": 12,
   "id": "c0267481",
   "metadata": {},
   "outputs": [
    {
     "data": {
      "text/html": [
       "<div>\n",
       "<style scoped>\n",
       "    .dataframe tbody tr th:only-of-type {\n",
       "        vertical-align: middle;\n",
       "    }\n",
       "\n",
       "    .dataframe tbody tr th {\n",
       "        vertical-align: top;\n",
       "    }\n",
       "\n",
       "    .dataframe thead th {\n",
       "        text-align: right;\n",
       "    }\n",
       "</style>\n",
       "<table border=\"1\" class=\"dataframe\">\n",
       "  <thead>\n",
       "    <tr style=\"text-align: right;\">\n",
       "      <th></th>\n",
       "      <th>Administrative</th>\n",
       "      <th>Administrative_Duration</th>\n",
       "      <th>Informational</th>\n",
       "      <th>Informational_Duration</th>\n",
       "      <th>ProductRelated</th>\n",
       "      <th>ProductRelated_Duration</th>\n",
       "      <th>BounceRates</th>\n",
       "      <th>ExitRates</th>\n",
       "      <th>PageValues</th>\n",
       "      <th>SpecialDay</th>\n",
       "      <th>Month</th>\n",
       "      <th>OperatingSystems</th>\n",
       "      <th>Browser</th>\n",
       "      <th>Region</th>\n",
       "      <th>TrafficType</th>\n",
       "      <th>VisitorType</th>\n",
       "      <th>Weekend</th>\n",
       "      <th>Revenue</th>\n",
       "    </tr>\n",
       "  </thead>\n",
       "  <tbody>\n",
       "    <tr>\n",
       "      <th>0</th>\n",
       "      <td>0</td>\n",
       "      <td>0.0</td>\n",
       "      <td>0</td>\n",
       "      <td>0.0</td>\n",
       "      <td>1</td>\n",
       "      <td>0.000000</td>\n",
       "      <td>0.20</td>\n",
       "      <td>0.20</td>\n",
       "      <td>0.0</td>\n",
       "      <td>0.0</td>\n",
       "      <td>Feb</td>\n",
       "      <td>1</td>\n",
       "      <td>1</td>\n",
       "      <td>1</td>\n",
       "      <td>1</td>\n",
       "      <td>Returning_Visitor</td>\n",
       "      <td>False</td>\n",
       "      <td>False</td>\n",
       "    </tr>\n",
       "    <tr>\n",
       "      <th>1</th>\n",
       "      <td>0</td>\n",
       "      <td>0.0</td>\n",
       "      <td>0</td>\n",
       "      <td>0.0</td>\n",
       "      <td>2</td>\n",
       "      <td>64.000000</td>\n",
       "      <td>0.00</td>\n",
       "      <td>0.10</td>\n",
       "      <td>0.0</td>\n",
       "      <td>0.0</td>\n",
       "      <td>Feb</td>\n",
       "      <td>2</td>\n",
       "      <td>2</td>\n",
       "      <td>1</td>\n",
       "      <td>2</td>\n",
       "      <td>Returning_Visitor</td>\n",
       "      <td>False</td>\n",
       "      <td>False</td>\n",
       "    </tr>\n",
       "    <tr>\n",
       "      <th>2</th>\n",
       "      <td>0</td>\n",
       "      <td>0.0</td>\n",
       "      <td>0</td>\n",
       "      <td>0.0</td>\n",
       "      <td>1</td>\n",
       "      <td>0.000000</td>\n",
       "      <td>0.20</td>\n",
       "      <td>0.20</td>\n",
       "      <td>0.0</td>\n",
       "      <td>0.0</td>\n",
       "      <td>Feb</td>\n",
       "      <td>4</td>\n",
       "      <td>1</td>\n",
       "      <td>9</td>\n",
       "      <td>3</td>\n",
       "      <td>Returning_Visitor</td>\n",
       "      <td>False</td>\n",
       "      <td>False</td>\n",
       "    </tr>\n",
       "    <tr>\n",
       "      <th>3</th>\n",
       "      <td>0</td>\n",
       "      <td>0.0</td>\n",
       "      <td>0</td>\n",
       "      <td>0.0</td>\n",
       "      <td>2</td>\n",
       "      <td>2.666667</td>\n",
       "      <td>0.05</td>\n",
       "      <td>0.14</td>\n",
       "      <td>0.0</td>\n",
       "      <td>0.0</td>\n",
       "      <td>Feb</td>\n",
       "      <td>3</td>\n",
       "      <td>2</td>\n",
       "      <td>2</td>\n",
       "      <td>4</td>\n",
       "      <td>Returning_Visitor</td>\n",
       "      <td>False</td>\n",
       "      <td>False</td>\n",
       "    </tr>\n",
       "    <tr>\n",
       "      <th>4</th>\n",
       "      <td>0</td>\n",
       "      <td>0.0</td>\n",
       "      <td>0</td>\n",
       "      <td>0.0</td>\n",
       "      <td>10</td>\n",
       "      <td>627.500000</td>\n",
       "      <td>0.02</td>\n",
       "      <td>0.05</td>\n",
       "      <td>0.0</td>\n",
       "      <td>0.0</td>\n",
       "      <td>Feb</td>\n",
       "      <td>3</td>\n",
       "      <td>3</td>\n",
       "      <td>1</td>\n",
       "      <td>4</td>\n",
       "      <td>Returning_Visitor</td>\n",
       "      <td>True</td>\n",
       "      <td>False</td>\n",
       "    </tr>\n",
       "  </tbody>\n",
       "</table>\n",
       "</div>"
      ],
      "text/plain": [
       "   Administrative  Administrative_Duration  Informational  \\\n",
       "0               0                      0.0              0   \n",
       "1               0                      0.0              0   \n",
       "2               0                      0.0              0   \n",
       "3               0                      0.0              0   \n",
       "4               0                      0.0              0   \n",
       "\n",
       "   Informational_Duration  ProductRelated  ProductRelated_Duration  \\\n",
       "0                     0.0               1                 0.000000   \n",
       "1                     0.0               2                64.000000   \n",
       "2                     0.0               1                 0.000000   \n",
       "3                     0.0               2                 2.666667   \n",
       "4                     0.0              10               627.500000   \n",
       "\n",
       "   BounceRates  ExitRates  PageValues  SpecialDay Month  OperatingSystems  \\\n",
       "0         0.20       0.20         0.0         0.0   Feb                 1   \n",
       "1         0.00       0.10         0.0         0.0   Feb                 2   \n",
       "2         0.20       0.20         0.0         0.0   Feb                 4   \n",
       "3         0.05       0.14         0.0         0.0   Feb                 3   \n",
       "4         0.02       0.05         0.0         0.0   Feb                 3   \n",
       "\n",
       "   Browser  Region  TrafficType        VisitorType  Weekend  Revenue  \n",
       "0        1       1            1  Returning_Visitor    False    False  \n",
       "1        2       1            2  Returning_Visitor    False    False  \n",
       "2        1       9            3  Returning_Visitor    False    False  \n",
       "3        2       2            4  Returning_Visitor    False    False  \n",
       "4        3       1            4  Returning_Visitor     True    False  "
      ]
     },
     "execution_count": 12,
     "metadata": {},
     "output_type": "execute_result"
    }
   ],
   "source": [
    "# Loading in data\n",
    "\n",
    "data = pd.read_csv(\"../data/online_shoppers_intention.csv\")\n",
    "\n",
    "data.head()"
   ]
  },
  {
   "cell_type": "markdown",
   "id": "87b8382e",
   "metadata": {},
   "source": [
    "## Exploratory Data Analysis"
   ]
  },
  {
   "cell_type": "code",
   "execution_count": 13,
   "id": "18bc53f7",
   "metadata": {},
   "outputs": [
    {
     "data": {
      "text/html": [
       "<div>\n",
       "<style scoped>\n",
       "    .dataframe tbody tr th:only-of-type {\n",
       "        vertical-align: middle;\n",
       "    }\n",
       "\n",
       "    .dataframe tbody tr th {\n",
       "        vertical-align: top;\n",
       "    }\n",
       "\n",
       "    .dataframe thead th {\n",
       "        text-align: right;\n",
       "    }\n",
       "</style>\n",
       "<table border=\"1\" class=\"dataframe\">\n",
       "  <thead>\n",
       "    <tr style=\"text-align: right;\">\n",
       "      <th></th>\n",
       "      <th>Administrative</th>\n",
       "      <th>Administrative_Duration</th>\n",
       "      <th>Informational</th>\n",
       "      <th>Informational_Duration</th>\n",
       "      <th>ProductRelated</th>\n",
       "      <th>ProductRelated_Duration</th>\n",
       "      <th>BounceRates</th>\n",
       "      <th>ExitRates</th>\n",
       "      <th>PageValues</th>\n",
       "      <th>SpecialDay</th>\n",
       "      <th>Month</th>\n",
       "      <th>OperatingSystems</th>\n",
       "      <th>Browser</th>\n",
       "      <th>Region</th>\n",
       "      <th>TrafficType</th>\n",
       "      <th>VisitorType</th>\n",
       "      <th>Weekend</th>\n",
       "      <th>Revenue</th>\n",
       "    </tr>\n",
       "  </thead>\n",
       "  <tbody>\n",
       "    <tr>\n",
       "      <th>count</th>\n",
       "      <td>12330.000000</td>\n",
       "      <td>12330.000000</td>\n",
       "      <td>12330.000000</td>\n",
       "      <td>12330.000000</td>\n",
       "      <td>12330.000000</td>\n",
       "      <td>12330.00000</td>\n",
       "      <td>12330.000000</td>\n",
       "      <td>12330.000000</td>\n",
       "      <td>12330.000000</td>\n",
       "      <td>12330.000000</td>\n",
       "      <td>12330</td>\n",
       "      <td>12330.000000</td>\n",
       "      <td>12330.000000</td>\n",
       "      <td>12330.000000</td>\n",
       "      <td>12330.000000</td>\n",
       "      <td>12330</td>\n",
       "      <td>12330</td>\n",
       "      <td>12330</td>\n",
       "    </tr>\n",
       "    <tr>\n",
       "      <th>unique</th>\n",
       "      <td>NaN</td>\n",
       "      <td>NaN</td>\n",
       "      <td>NaN</td>\n",
       "      <td>NaN</td>\n",
       "      <td>NaN</td>\n",
       "      <td>NaN</td>\n",
       "      <td>NaN</td>\n",
       "      <td>NaN</td>\n",
       "      <td>NaN</td>\n",
       "      <td>NaN</td>\n",
       "      <td>10</td>\n",
       "      <td>NaN</td>\n",
       "      <td>NaN</td>\n",
       "      <td>NaN</td>\n",
       "      <td>NaN</td>\n",
       "      <td>3</td>\n",
       "      <td>2</td>\n",
       "      <td>2</td>\n",
       "    </tr>\n",
       "    <tr>\n",
       "      <th>top</th>\n",
       "      <td>NaN</td>\n",
       "      <td>NaN</td>\n",
       "      <td>NaN</td>\n",
       "      <td>NaN</td>\n",
       "      <td>NaN</td>\n",
       "      <td>NaN</td>\n",
       "      <td>NaN</td>\n",
       "      <td>NaN</td>\n",
       "      <td>NaN</td>\n",
       "      <td>NaN</td>\n",
       "      <td>May</td>\n",
       "      <td>NaN</td>\n",
       "      <td>NaN</td>\n",
       "      <td>NaN</td>\n",
       "      <td>NaN</td>\n",
       "      <td>Returning_Visitor</td>\n",
       "      <td>False</td>\n",
       "      <td>False</td>\n",
       "    </tr>\n",
       "    <tr>\n",
       "      <th>freq</th>\n",
       "      <td>NaN</td>\n",
       "      <td>NaN</td>\n",
       "      <td>NaN</td>\n",
       "      <td>NaN</td>\n",
       "      <td>NaN</td>\n",
       "      <td>NaN</td>\n",
       "      <td>NaN</td>\n",
       "      <td>NaN</td>\n",
       "      <td>NaN</td>\n",
       "      <td>NaN</td>\n",
       "      <td>3364</td>\n",
       "      <td>NaN</td>\n",
       "      <td>NaN</td>\n",
       "      <td>NaN</td>\n",
       "      <td>NaN</td>\n",
       "      <td>10551</td>\n",
       "      <td>9462</td>\n",
       "      <td>10422</td>\n",
       "    </tr>\n",
       "    <tr>\n",
       "      <th>mean</th>\n",
       "      <td>2.315166</td>\n",
       "      <td>80.818611</td>\n",
       "      <td>0.503569</td>\n",
       "      <td>34.472398</td>\n",
       "      <td>31.731468</td>\n",
       "      <td>1194.74622</td>\n",
       "      <td>0.022191</td>\n",
       "      <td>0.043073</td>\n",
       "      <td>5.889258</td>\n",
       "      <td>0.061427</td>\n",
       "      <td>NaN</td>\n",
       "      <td>2.124006</td>\n",
       "      <td>2.357097</td>\n",
       "      <td>3.147364</td>\n",
       "      <td>4.069586</td>\n",
       "      <td>NaN</td>\n",
       "      <td>NaN</td>\n",
       "      <td>NaN</td>\n",
       "    </tr>\n",
       "  </tbody>\n",
       "</table>\n",
       "</div>"
      ],
      "text/plain": [
       "        Administrative  Administrative_Duration  Informational  \\\n",
       "count     12330.000000             12330.000000   12330.000000   \n",
       "unique             NaN                      NaN            NaN   \n",
       "top                NaN                      NaN            NaN   \n",
       "freq               NaN                      NaN            NaN   \n",
       "mean          2.315166                80.818611       0.503569   \n",
       "\n",
       "        Informational_Duration  ProductRelated  ProductRelated_Duration  \\\n",
       "count             12330.000000    12330.000000              12330.00000   \n",
       "unique                     NaN             NaN                      NaN   \n",
       "top                        NaN             NaN                      NaN   \n",
       "freq                       NaN             NaN                      NaN   \n",
       "mean                 34.472398       31.731468               1194.74622   \n",
       "\n",
       "         BounceRates     ExitRates    PageValues    SpecialDay  Month  \\\n",
       "count   12330.000000  12330.000000  12330.000000  12330.000000  12330   \n",
       "unique           NaN           NaN           NaN           NaN     10   \n",
       "top              NaN           NaN           NaN           NaN    May   \n",
       "freq             NaN           NaN           NaN           NaN   3364   \n",
       "mean        0.022191      0.043073      5.889258      0.061427    NaN   \n",
       "\n",
       "        OperatingSystems       Browser        Region   TrafficType  \\\n",
       "count       12330.000000  12330.000000  12330.000000  12330.000000   \n",
       "unique               NaN           NaN           NaN           NaN   \n",
       "top                  NaN           NaN           NaN           NaN   \n",
       "freq                 NaN           NaN           NaN           NaN   \n",
       "mean            2.124006      2.357097      3.147364      4.069586   \n",
       "\n",
       "              VisitorType Weekend Revenue  \n",
       "count               12330   12330   12330  \n",
       "unique                  3       2       2  \n",
       "top     Returning_Visitor   False   False  \n",
       "freq                10551    9462   10422  \n",
       "mean                  NaN     NaN     NaN  "
      ]
     },
     "execution_count": 13,
     "metadata": {},
     "output_type": "execute_result"
    }
   ],
   "source": [
    "# obtaining summary of dataset\n",
    "\n",
    "data_summary = data.describe(include = 'all')\n",
    "data_summary.head()"
   ]
  },
  {
   "cell_type": "markdown",
   "id": "9f9c606f",
   "metadata": {},
   "source": [
    "#### Summary of features\n",
    "\n",
    "* **Administrative**: the number of pages visited by user of this administrative type\n",
    "* **Administrative_Duration**: the amount of time spent on pages of this administrative type\n",
    "* **Informational**: the number of pages visited by user of this informational type\n",
    "* **Informational_Duration**: the amount of time spent on this informational category of pages\n",
    "* **ProductRelated**: the number of pages of this type of product the user visited\n",
    "* **ProductRelated_Duration**: the amount of time spent on pages featuring related products\n",
    "* **BounceRates**: percentage of visitors who enter the web page then leave (\"bounce\") without triggering any other requests to the analytics server during the session\n",
    "* **ExitRates**: the percentage of pageviews where the given page is the last page before exiting website\n",
    "* **PageValues**: the average value for a web page that a user visited before completing an e-commerce transaction\n",
    "* **SpecialDay**: the temporal proximity between the day the user is visiting the page and a special day (eg. Valentines Day, Christmas, Mother's Day, etc.). \n",
    "* **Month**: the month the page was viewed\n",
    "* **OperatingSystems**: an integer value representing the operating system of the user when viewing the page\n",
    "* **Browser**: an integer value representing the user's browser when viewing the page\n",
    "* **Region**: an integer value representing the user's traffic type. [Learn more about user traffic types here](https://www.practicalecommerce.com/Understanding-Traffic-Sources-in-Google-Analytics)\n",
    "* **VisitorType**: categorizes the user into 'New Visitor', 'Returning Visitor', and 'Other'.\n",
    "* **Weekend**: a boolean value, indicating whether the user's session took place during a weekend or not\n",
    "* **Revenue**: a boolean value, indicating whether the user made the purchase or not\n",
    "    * **This will be our target feature**"
   ]
  },
  {
   "cell_type": "code",
   "execution_count": 14,
   "id": "1737c466",
   "metadata": {},
   "outputs": [
    {
     "data": {
      "text/plain": [
       "array([ 1,  2,  3,  4,  5,  6,  7, 10,  8,  9, 12, 13, 11])"
      ]
     },
     "execution_count": 14,
     "metadata": {},
     "output_type": "execute_result"
    }
   ],
   "source": [
    "data[\"Browser\"].unique()"
   ]
  },
  {
   "cell_type": "code",
   "execution_count": 15,
   "id": "5c047a07",
   "metadata": {},
   "outputs": [
    {
     "name": "stdout",
     "output_type": "stream",
     "text": [
      "<class 'pandas.core.frame.DataFrame'>\n",
      "RangeIndex: 12330 entries, 0 to 12329\n",
      "Data columns (total 18 columns):\n",
      " #   Column                   Non-Null Count  Dtype  \n",
      "---  ------                   --------------  -----  \n",
      " 0   Administrative           12330 non-null  int64  \n",
      " 1   Administrative_Duration  12330 non-null  float64\n",
      " 2   Informational            12330 non-null  int64  \n",
      " 3   Informational_Duration   12330 non-null  float64\n",
      " 4   ProductRelated           12330 non-null  int64  \n",
      " 5   ProductRelated_Duration  12330 non-null  float64\n",
      " 6   BounceRates              12330 non-null  float64\n",
      " 7   ExitRates                12330 non-null  float64\n",
      " 8   PageValues               12330 non-null  float64\n",
      " 9   SpecialDay               12330 non-null  float64\n",
      " 10  Month                    12330 non-null  object \n",
      " 11  OperatingSystems         12330 non-null  int64  \n",
      " 12  Browser                  12330 non-null  int64  \n",
      " 13  Region                   12330 non-null  int64  \n",
      " 14  TrafficType              12330 non-null  int64  \n",
      " 15  VisitorType              12330 non-null  object \n",
      " 16  Weekend                  12330 non-null  bool   \n",
      " 17  Revenue                  12330 non-null  bool   \n",
      "dtypes: bool(2), float64(7), int64(7), object(2)\n",
      "memory usage: 1.5+ MB\n",
      "None\n"
     ]
    }
   ],
   "source": [
    "# obtaining the data type of all features\n",
    "\n",
    "print(data.info())"
   ]
  },
  {
   "cell_type": "code",
   "execution_count": 16,
   "id": "a19a3c17",
   "metadata": {},
   "outputs": [
    {
     "data": {
      "text/plain": [
       "Administrative             0\n",
       "Administrative_Duration    0\n",
       "Informational              0\n",
       "Informational_Duration     0\n",
       "ProductRelated             0\n",
       "ProductRelated_Duration    0\n",
       "BounceRates                0\n",
       "ExitRates                  0\n",
       "PageValues                 0\n",
       "SpecialDay                 0\n",
       "Month                      0\n",
       "OperatingSystems           0\n",
       "Browser                    0\n",
       "Region                     0\n",
       "TrafficType                0\n",
       "VisitorType                0\n",
       "Weekend                    0\n",
       "Revenue                    0\n",
       "dtype: int64"
      ]
     },
     "execution_count": 16,
     "metadata": {},
     "output_type": "execute_result"
    }
   ],
   "source": [
    "# checking for null values\n",
    "data.isnull().sum()"
   ]
  },
  {
   "cell_type": "markdown",
   "id": "69c35d6c",
   "metadata": {},
   "source": [
    "### Data Cleaning\n",
    "\n",
    "After examining the different features and ensuring there are no missing values, let us  further refine the data for explanatory and target features of interest."
   ]
  },
  {
   "cell_type": "code",
   "execution_count": 17,
   "id": "11ae4acb",
   "metadata": {},
   "outputs": [
    {
     "data": {
      "text/plain": [
       "False    12205\n",
       "True       125\n",
       "Name: count, dtype: int64"
      ]
     },
     "execution_count": 17,
     "metadata": {},
     "output_type": "execute_result"
    }
   ],
   "source": [
    "# checking for duplicated rows in the data\n",
    "\n",
    "data.duplicated().value_counts() "
   ]
  },
  {
   "cell_type": "markdown",
   "id": "8921f6f7",
   "metadata": {},
   "source": [
    "**Note**: \n",
    "- 'False': number of unique rows, no duplicates\n",
    "- 'True': number of rows with duplicates\n",
    "\n",
    "Let us examine the 125 duplicated rows"
   ]
  },
  {
   "cell_type": "code",
   "execution_count": 18,
   "id": "e0b515bf",
   "metadata": {},
   "outputs": [
    {
     "name": "stdout",
     "output_type": "stream",
     "text": [
      "       Administrative  Administrative_Duration  Informational  \\\n",
      "158                 0                      0.0              0   \n",
      "159                 0                      0.0              0   \n",
      "178                 0                      0.0              0   \n",
      "418                 0                      0.0              0   \n",
      "456                 0                      0.0              0   \n",
      "...               ...                      ...            ...   \n",
      "11934               0                      0.0              0   \n",
      "11938               0                      0.0              0   \n",
      "12159               0                      0.0              0   \n",
      "12180               0                      0.0              0   \n",
      "12185               0                      0.0              0   \n",
      "\n",
      "       Informational_Duration  ProductRelated  ProductRelated_Duration  \\\n",
      "158                       0.0               1                      0.0   \n",
      "159                       0.0               1                      0.0   \n",
      "178                       0.0               1                      0.0   \n",
      "418                       0.0               1                      0.0   \n",
      "456                       0.0               1                      0.0   \n",
      "...                       ...             ...                      ...   \n",
      "11934                     0.0               1                      0.0   \n",
      "11938                     0.0               1                      0.0   \n",
      "12159                     0.0               1                      0.0   \n",
      "12180                     0.0               1                      0.0   \n",
      "12185                     0.0               1                      0.0   \n",
      "\n",
      "       BounceRates  ExitRates  PageValues  SpecialDay Month  OperatingSystems  \\\n",
      "158            0.2        0.2         0.0         0.0   Feb                 1   \n",
      "159            0.2        0.2         0.0         0.0   Feb                 3   \n",
      "178            0.2        0.2         0.0         0.0   Feb                 3   \n",
      "418            0.2        0.2         0.0         0.0   Mar                 1   \n",
      "456            0.2        0.2         0.0         0.0   Mar                 2   \n",
      "...            ...        ...         ...         ...   ...               ...   \n",
      "11934          0.2        0.2         0.0         0.0   Dec                 1   \n",
      "11938          0.2        0.2         0.0         0.0   Dec                 1   \n",
      "12159          0.2        0.2         0.0         0.0   Dec                 1   \n",
      "12180          0.2        0.2         0.0         0.0   Dec                 1   \n",
      "12185          0.2        0.2         0.0         0.0   Dec                 8   \n",
      "\n",
      "       Browser  Region  TrafficType        VisitorType  Weekend  Revenue  \n",
      "158          1       1            3  Returning_Visitor    False    False  \n",
      "159          2       3            3  Returning_Visitor    False    False  \n",
      "178          2       3            3  Returning_Visitor    False    False  \n",
      "418          1       1            1  Returning_Visitor     True    False  \n",
      "456          2       4            1  Returning_Visitor    False    False  \n",
      "...        ...     ...          ...                ...      ...      ...  \n",
      "11934        1       1            2        New_Visitor    False    False  \n",
      "11938        1       4            1  Returning_Visitor     True    False  \n",
      "12159        1       1            3  Returning_Visitor    False    False  \n",
      "12180       13       9           20  Returning_Visitor    False    False  \n",
      "12185       13       9           20              Other    False    False  \n",
      "\n",
      "[125 rows x 18 columns]\n"
     ]
    }
   ],
   "source": [
    "duplicates = data[data.duplicated()]\n",
    "print(duplicates)"
   ]
  },
  {
   "cell_type": "markdown",
   "id": "f5a76970",
   "metadata": {},
   "source": [
    "We will drop the duplicated instances from our dataframe as keeping them can worsen class imbalance and bias in the data, skewing our model and affecting its generalizability on deployment data. "
   ]
  },
  {
   "cell_type": "code",
   "execution_count": 20,
   "id": "65674f49",
   "metadata": {},
   "outputs": [],
   "source": [
    "data.drop_duplicates(inplace=True)"
   ]
  },
  {
   "cell_type": "markdown",
   "id": "f218a507",
   "metadata": {},
   "source": [
    "### Exploratory Visualization"
   ]
  },
  {
   "cell_type": "markdown",
   "id": "91c65e1c",
   "metadata": {},
   "source": [
    "To inform the chosen method of visualization, let us first document if the features are continuous values, or if they are discrete categorical values. Some features are categorical but represented as integers so this step will allow for clarification."
   ]
  },
  {
   "cell_type": "markdown",
   "id": "6d709236",
   "metadata": {},
   "source": [
    "| Feature | Type |\n",
    "| --------| -----|\n",
    "| Administrative | numerical, continuous |\n",
    "| Administrative_Duration | numerical, continuous |\n",
    "| Informational | numerical, continuous |\n",
    "| Informational_Duration | numerical, continuous |\n",
    "| ProductRelated | numerical, continuous |\n",
    "| ProductRelated_Duration | numerical, continuous |\n",
    "| BounceRates | numerical, continuous |\n",
    "| ExitRates | numerical, continuous |\n",
    "| PageValues | numerical, continuous |\n",
    "| SpecialDay | numerical, continuous |\n",
    "| Month | categorical, discrete |\n",
    "| OperatingSystems | categorical, discrete |\n",
    "| Browser | categorical, discrete |\n",
    "| Region | categorical, discrete |\n",
    "| VisitorType | categorical, discrete |\n",
    "| Weekend | categorical, discrete, boolean |\n",
    "| Revenue | categorical, discrete, boolean |"
   ]
  },
  {
   "cell_type": "markdown",
   "id": "c8e18af7",
   "metadata": {},
   "source": [
    "Since 'Revenue' is our target variable, features will be visualized in comparison to 'Revenue'."
   ]
  },
  {
   "cell_type": "markdown",
   "id": "73269bd7",
   "metadata": {},
   "source": []
  },
  {
   "cell_type": "markdown",
   "id": "8398bec6",
   "metadata": {},
   "source": [
    "### Visualizing Numerical Features Against Revenue"
   ]
  },
  {
   "cell_type": "code",
   "execution_count": 19,
   "id": "cbdb92ec",
   "metadata": {},
   "outputs": [],
   "source": [
    "# defining list of numerical features\n",
    "numerical_features = ['Administrative', 'Administrative_Duration', 'Informational',\n",
    "                      'Informational_Duration', 'ProductRelated', 'ProductRelated_Duration',\n",
    "                      'BounceRates', 'ExitRates', \"PageValues\", 'SpecialDay']\n",
    "\n"
   ]
  },
  {
   "cell_type": "markdown",
   "id": "23daa766",
   "metadata": {},
   "source": [
    "## Methods"
   ]
  },
  {
   "cell_type": "markdown",
   "id": "d47658e2",
   "metadata": {},
   "source": [
    "## Results"
   ]
  },
  {
   "cell_type": "markdown",
   "id": "522ece49",
   "metadata": {},
   "source": [
    "| Feature | Type |\n",
    "| --------| -----|\n",
    "| Administrative | numerical, continuous |\n",
    "| Administrative_Duration | numerical, continuous |\n",
    "| Informational | numerical, continuous |\n",
    "| Informational_Duration | numerical, continuous |\n",
    "| ProductRelated | numerical, continuous |\n",
    "| ProductRelated_Duration | numerical, continuous |\n",
    "| BounceRates | numerical, continuous |\n",
    "| ExitRates | numerical, continuous |\n",
    "| PageValues | numerical, continuous |\n",
    "| SpecialDay | numerical, continuous |\n",
    "| Month | categorical, discrete |\n",
    "| OperatingSystems |  |\n",
    "| Browser |  |\n",
    "| Region |  |\n",
    "| VisitorType |  |\n",
    "| Weekend |  |\n",
    "| Revenue |  |"
   ]
  },
  {
   "cell_type": "markdown",
   "id": "2da56f1d",
   "metadata": {},
   "source": [
    "| Feature | Type |\n",
    "| --------| -----|\n",
    "| Administrative | numerical, continuous |\n",
    "| Administrative_Duration | numerical, continuous |\n",
    "| Informational | numerical, continuous |\n",
    "| Informational_Duration | numerical, continuous |\n",
    "| ProductRelated | numerical, continuous |\n",
    "| ProductRelated_Duration | numerical, continuous |\n",
    "| BounceRates | numerical, continuous |\n",
    "| ExitRates | numerical, continuous |\n",
    "| PageValues | numerical, continuous |\n",
    "| SpecialDay | numerical, continuous |\n",
    "| Month | categorical, discrete |\n",
    "| OperatingSystems |  |\n",
    "| Browser |  |\n",
    "| Region |  |\n",
    "| VisitorType |  |\n",
    "| Weekend |  |\n",
    "| Revenue |  |\n"
   ]
  },
  {
   "cell_type": "markdown",
   "id": "36bf3287",
   "metadata": {},
   "source": []
  }
 ],
 "metadata": {
  "kernelspec": {
   "display_name": "Python 3 (ipykernel)",
   "language": "python",
   "name": "python3"
  },
  "language_info": {
   "codemirror_mode": {
    "name": "ipython",
    "version": 3
   },
   "file_extension": ".py",
   "mimetype": "text/x-python",
   "name": "python",
   "nbconvert_exporter": "python",
   "pygments_lexer": "ipython3",
   "version": "3.12.2"
  }
 },
 "nbformat": 4,
 "nbformat_minor": 5
}
